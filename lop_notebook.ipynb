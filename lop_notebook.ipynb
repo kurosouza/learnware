{
 "cells": [
  {
   "cell_type": "markdown",
   "metadata": {},
   "source": [
    "# Predicting student learning performance in a Virtual Learning Environment using activity data"
   ]
  },
  {
   "cell_type": "code",
   "execution_count": 3,
   "metadata": {},
   "outputs": [],
   "source": [
    "from ibmdbpy import IdaDataBase, IdaDataFrame\n",
    "import seaborn as sns\n",
    "import pandas as pd\n",
    "import numpy as np"
   ]
  },
  {
   "cell_type": "markdown",
   "metadata": {},
   "source": [
    "## A cleaner way to import the data while preserving table names"
   ]
  },
  {
   "cell_type": "code",
   "execution_count": 4,
   "metadata": {},
   "outputs": [],
   "source": [
    "schema_name = 'LSR68256'\n",
    "table_names = ['STUDENT_INFO', 'ASSESSMENTS','COURSES','VLE','STUDENT_ASSESSMENT','STUDENT_REGISTRATION','STUDENT_VLE2']"
   ]
  },
  {
   "cell_type": "code",
   "execution_count": 5,
   "metadata": {},
   "outputs": [],
   "source": [
    "idadb_c667f3e30cc04bae88b4ad591071d6b2 = IdaDataBase(dsn='DASHDB;Database=BLUDB;Hostname=dashdb-txn-sbox-yp-lon02-02.services.eu-gb.bluemix.net;Port=50000;PROTOCOL=TCPIP;UID=lsr68256;PWD=2cz+b3kf2t4tsbl1')\n",
    "lop_tables = dict()\n",
    "for table_name in table_names:\n",
    "    data_df = IdaDataFrame(idadb_c667f3e30cc04bae88b4ad591071d6b2, str.format('{0}.{1}',schema_name,table_name)).as_dataframe()    \n",
    "    df = pd.DataFrame(data = data_df)\n",
    "    lop_tables[table_name] = df"
   ]
  },
  {
   "cell_type": "code",
   "execution_count": 6,
   "metadata": {},
   "outputs": [
    {
     "name": "stdout",
     "output_type": "stream",
     "text": [
      "Connection closed.\n"
     ]
    }
   ],
   "source": [
    "idadb_c667f3e30cc04bae88b4ad591071d6b2.close()"
   ]
  },
  {
   "cell_type": "code",
   "execution_count": 5,
   "metadata": {},
   "outputs": [
    {
     "data": {
      "text/html": [
       "<div>\n",
       "<style scoped>\n",
       "    .dataframe tbody tr th:only-of-type {\n",
       "        vertical-align: middle;\n",
       "    }\n",
       "\n",
       "    .dataframe tbody tr th {\n",
       "        vertical-align: top;\n",
       "    }\n",
       "\n",
       "    .dataframe thead th {\n",
       "        text-align: right;\n",
       "    }\n",
       "</style>\n",
       "<table border=\"1\" class=\"dataframe\">\n",
       "  <thead>\n",
       "    <tr style=\"text-align: right;\">\n",
       "      <th></th>\n",
       "      <th>id_student</th>\n",
       "      <th>num_of_prev_attempts</th>\n",
       "      <th>studied_credits</th>\n",
       "    </tr>\n",
       "  </thead>\n",
       "  <tbody>\n",
       "    <tr>\n",
       "      <th>count</th>\n",
       "      <td>3.259300e+04</td>\n",
       "      <td>32593.000000</td>\n",
       "      <td>32593.000000</td>\n",
       "    </tr>\n",
       "    <tr>\n",
       "      <th>mean</th>\n",
       "      <td>7.066877e+05</td>\n",
       "      <td>0.163225</td>\n",
       "      <td>79.758691</td>\n",
       "    </tr>\n",
       "    <tr>\n",
       "      <th>std</th>\n",
       "      <td>5.491673e+05</td>\n",
       "      <td>0.479758</td>\n",
       "      <td>41.071900</td>\n",
       "    </tr>\n",
       "    <tr>\n",
       "      <th>min</th>\n",
       "      <td>3.733000e+03</td>\n",
       "      <td>0.000000</td>\n",
       "      <td>30.000000</td>\n",
       "    </tr>\n",
       "    <tr>\n",
       "      <th>25%</th>\n",
       "      <td>5.085730e+05</td>\n",
       "      <td>0.000000</td>\n",
       "      <td>60.000000</td>\n",
       "    </tr>\n",
       "    <tr>\n",
       "      <th>50%</th>\n",
       "      <td>5.903100e+05</td>\n",
       "      <td>0.000000</td>\n",
       "      <td>60.000000</td>\n",
       "    </tr>\n",
       "    <tr>\n",
       "      <th>75%</th>\n",
       "      <td>6.444530e+05</td>\n",
       "      <td>0.000000</td>\n",
       "      <td>120.000000</td>\n",
       "    </tr>\n",
       "    <tr>\n",
       "      <th>max</th>\n",
       "      <td>2.716795e+06</td>\n",
       "      <td>6.000000</td>\n",
       "      <td>655.000000</td>\n",
       "    </tr>\n",
       "  </tbody>\n",
       "</table>\n",
       "</div>"
      ],
      "text/plain": [
       "         id_student  num_of_prev_attempts  studied_credits\n",
       "count  3.259300e+04          32593.000000     32593.000000\n",
       "mean   7.066877e+05              0.163225        79.758691\n",
       "std    5.491673e+05              0.479758        41.071900\n",
       "min    3.733000e+03              0.000000        30.000000\n",
       "25%    5.085730e+05              0.000000        60.000000\n",
       "50%    5.903100e+05              0.000000        60.000000\n",
       "75%    6.444530e+05              0.000000       120.000000\n",
       "max    2.716795e+06              6.000000       655.000000"
      ]
     },
     "execution_count": 5,
     "metadata": {},
     "output_type": "execute_result"
    }
   ],
   "source": [
    "lop_tables['STUDENT_INFO'].describe()"
   ]
  },
  {
   "cell_type": "code",
   "execution_count": 7,
   "metadata": {},
   "outputs": [
    {
     "name": "stdout",
     "output_type": "stream",
     "text": [
      "<class 'pandas.core.frame.DataFrame'>\n",
      "RangeIndex: 32593 entries, 0 to 32592\n",
      "Data columns (total 12 columns):\n",
      "code_module             32593 non-null object\n",
      "code_presentation       32593 non-null object\n",
      "id_student              32593 non-null int64\n",
      "gender                  32593 non-null object\n",
      "region                  32593 non-null object\n",
      "highest_education       32593 non-null object\n",
      "imd_band                32593 non-null object\n",
      "age_band                32593 non-null object\n",
      "num_of_prev_attempts    32593 non-null int64\n",
      "studied_credits         32593 non-null int64\n",
      "disability              32593 non-null object\n",
      "final_result            32593 non-null object\n",
      "dtypes: int64(3), object(9)\n",
      "memory usage: 3.0+ MB\n"
     ]
    }
   ],
   "source": [
    "lop_tables['STUDENT_INFO'].info()"
   ]
  },
  {
   "cell_type": "code",
   "execution_count": 8,
   "metadata": {},
   "outputs": [
    {
     "data": {
      "text/plain": [
       "count     32593\n",
       "unique        4\n",
       "top        Pass\n",
       "freq      12361\n",
       "Name: final_result, dtype: object"
      ]
     },
     "execution_count": 8,
     "metadata": {},
     "output_type": "execute_result"
    }
   ],
   "source": [
    "lop_tables['STUDENT_INFO']['final_result'].describe()"
   ]
  },
  {
   "cell_type": "code",
   "execution_count": 8,
   "metadata": {},
   "outputs": [
    {
     "data": {
      "text/plain": [
       "Pass           12361\n",
       "Withdrawn      10156\n",
       "Fail            7052\n",
       "Distinction     3024\n",
       "Name: final_result, dtype: int64"
      ]
     },
     "execution_count": 8,
     "metadata": {},
     "output_type": "execute_result"
    }
   ],
   "source": [
    "lop_tables['STUDENT_INFO']['final_result'].value_counts()"
   ]
  },
  {
   "cell_type": "code",
   "execution_count": 9,
   "metadata": {},
   "outputs": [
    {
     "data": {
      "text/plain": [
       "<matplotlib.axes._subplots.AxesSubplot at 0x7fa753e99358>"
      ]
     },
     "execution_count": 9,
     "metadata": {},
     "output_type": "execute_result"
    },
    {
     "data": {
      "image/png": "[encoded data removed]",
      "text/plain": [
       "<Figure size 432x288 with 1 Axes>"
      ]
     },
     "metadata": {
      "needs_background": "light"
     },
     "output_type": "display_data"
    }
   ],
   "source": [
    "sns.barplot(lop_tables['STUDENT_INFO']['final_result'].value_counts())"
   ]
  },
  {
   "cell_type": "code",
   "execution_count": 10,
   "metadata": {},
   "outputs": [
    {
     "data": {
      "text/html": [
       "<div>\n",
       "<style scoped>\n",
       "    .dataframe tbody tr th:only-of-type {\n",
       "        vertical-align: middle;\n",
       "    }\n",
       "\n",
       "    .dataframe tbody tr th {\n",
       "        vertical-align: top;\n",
       "    }\n",
       "\n",
       "    .dataframe thead th {\n",
       "        text-align: right;\n",
       "    }\n",
       "</style>\n",
       "<table border=\"1\" class=\"dataframe\">\n",
       "  <thead>\n",
       "    <tr style=\"text-align: right;\">\n",
       "      <th></th>\n",
       "      <th>code_module</th>\n",
       "      <th>code_presentation</th>\n",
       "      <th>id_student</th>\n",
       "      <th>gender</th>\n",
       "      <th>region</th>\n",
       "      <th>highest_education</th>\n",
       "      <th>imd_band</th>\n",
       "      <th>age_band</th>\n",
       "      <th>num_of_prev_attempts</th>\n",
       "      <th>studied_credits</th>\n",
       "      <th>disability</th>\n",
       "      <th>final_result</th>\n",
       "    </tr>\n",
       "  </thead>\n",
       "  <tbody>\n",
       "    <tr>\n",
       "      <th>0</th>\n",
       "      <td>AAA</td>\n",
       "      <td>2013J</td>\n",
       "      <td>11391</td>\n",
       "      <td>M</td>\n",
       "      <td>East Anglian Region</td>\n",
       "      <td>HE Qualification</td>\n",
       "      <td>90-100%</td>\n",
       "      <td>55&lt;=</td>\n",
       "      <td>0</td>\n",
       "      <td>240</td>\n",
       "      <td>N</td>\n",
       "      <td>Pass</td>\n",
       "    </tr>\n",
       "    <tr>\n",
       "      <th>1</th>\n",
       "      <td>AAA</td>\n",
       "      <td>2013J</td>\n",
       "      <td>28400</td>\n",
       "      <td>F</td>\n",
       "      <td>Scotland</td>\n",
       "      <td>HE Qualification</td>\n",
       "      <td>20-30%</td>\n",
       "      <td>35-55</td>\n",
       "      <td>0</td>\n",
       "      <td>60</td>\n",
       "      <td>N</td>\n",
       "      <td>Pass</td>\n",
       "    </tr>\n",
       "    <tr>\n",
       "      <th>2</th>\n",
       "      <td>AAA</td>\n",
       "      <td>2013J</td>\n",
       "      <td>30268</td>\n",
       "      <td>F</td>\n",
       "      <td>North Western Region</td>\n",
       "      <td>A Level or Equivalent</td>\n",
       "      <td>30-40%</td>\n",
       "      <td>35-55</td>\n",
       "      <td>0</td>\n",
       "      <td>60</td>\n",
       "      <td>Y</td>\n",
       "      <td>Withdrawn</td>\n",
       "    </tr>\n",
       "    <tr>\n",
       "      <th>3</th>\n",
       "      <td>AAA</td>\n",
       "      <td>2013J</td>\n",
       "      <td>31604</td>\n",
       "      <td>F</td>\n",
       "      <td>South East Region</td>\n",
       "      <td>A Level or Equivalent</td>\n",
       "      <td>50-60%</td>\n",
       "      <td>35-55</td>\n",
       "      <td>0</td>\n",
       "      <td>60</td>\n",
       "      <td>N</td>\n",
       "      <td>Pass</td>\n",
       "    </tr>\n",
       "    <tr>\n",
       "      <th>4</th>\n",
       "      <td>AAA</td>\n",
       "      <td>2013J</td>\n",
       "      <td>32885</td>\n",
       "      <td>F</td>\n",
       "      <td>West Midlands Region</td>\n",
       "      <td>Lower Than A Level</td>\n",
       "      <td>50-60%</td>\n",
       "      <td>0-35</td>\n",
       "      <td>0</td>\n",
       "      <td>60</td>\n",
       "      <td>N</td>\n",
       "      <td>Pass</td>\n",
       "    </tr>\n",
       "  </tbody>\n",
       "</table>\n",
       "</div>"
      ],
      "text/plain": [
       "  code_module code_presentation  id_student gender                region  \\\n",
       "0         AAA             2013J       11391      M   East Anglian Region   \n",
       "1         AAA             2013J       28400      F              Scotland   \n",
       "2         AAA             2013J       30268      F  North Western Region   \n",
       "3         AAA             2013J       31604      F     South East Region   \n",
       "4         AAA             2013J       32885      F  West Midlands Region   \n",
       "\n",
       "       highest_education imd_band age_band  num_of_prev_attempts  \\\n",
       "0       HE Qualification  90-100%     55<=                     0   \n",
       "1       HE Qualification   20-30%    35-55                     0   \n",
       "2  A Level or Equivalent   30-40%    35-55                     0   \n",
       "3  A Level or Equivalent   50-60%    35-55                     0   \n",
       "4     Lower Than A Level   50-60%     0-35                     0   \n",
       "\n",
       "   studied_credits disability final_result  \n",
       "0              240          N         Pass  \n",
       "1               60          N         Pass  \n",
       "2               60          Y    Withdrawn  \n",
       "3               60          N         Pass  \n",
       "4               60          N         Pass  "
      ]
     },
     "execution_count": 10,
     "metadata": {},
     "output_type": "execute_result"
    }
   ],
   "source": [
    "lop_tables['STUDENT_INFO'].head()"
   ]
  },
  {
   "cell_type": "markdown",
   "metadata": {},
   "source": [
    "## Can we use VLE activities to predict a student's final result?"
   ]
  },
  {
   "cell_type": "code",
   "execution_count": 11,
   "metadata": {},
   "outputs": [
    {
     "data": {
      "text/plain": [
       "<seaborn.axisgrid.FacetGrid at 0x7fa76b0b2748>"
      ]
     },
     "execution_count": 11,
     "metadata": {},
     "output_type": "execute_result"
    },
    {
     "data": {
      "image/png": "[encoded data removed]",
      "text/plain": [
       "<Figure size 360x360 with 1 Axes>"
      ]
     },
     "metadata": {
      "needs_background": "light"
     },
     "output_type": "display_data"
    }
   ],
   "source": [
    "sns.catplot(x = \"final_result\", y = \"studied_credits\", data = lop_tables['STUDENT_INFO'])"
   ]
  },
  {
   "cell_type": "code",
   "execution_count": 12,
   "metadata": {},
   "outputs": [
    {
     "data": {
      "text/html": [
       "<div>\n",
       "<style scoped>\n",
       "    .dataframe tbody tr th:only-of-type {\n",
       "        vertical-align: middle;\n",
       "    }\n",
       "\n",
       "    .dataframe tbody tr th {\n",
       "        vertical-align: top;\n",
       "    }\n",
       "\n",
       "    .dataframe thead th {\n",
       "        text-align: right;\n",
       "    }\n",
       "</style>\n",
       "<table border=\"1\" class=\"dataframe\">\n",
       "  <thead>\n",
       "    <tr style=\"text-align: right;\">\n",
       "      <th></th>\n",
       "      <th>id_assessment</th>\n",
       "      <th>id_student</th>\n",
       "      <th>date_submitted</th>\n",
       "      <th>is_banked</th>\n",
       "      <th>score</th>\n",
       "    </tr>\n",
       "  </thead>\n",
       "  <tbody>\n",
       "    <tr>\n",
       "      <th>0</th>\n",
       "      <td>1752</td>\n",
       "      <td>11391</td>\n",
       "      <td>18</td>\n",
       "      <td>0</td>\n",
       "      <td>78</td>\n",
       "    </tr>\n",
       "    <tr>\n",
       "      <th>1</th>\n",
       "      <td>1752</td>\n",
       "      <td>28400</td>\n",
       "      <td>22</td>\n",
       "      <td>0</td>\n",
       "      <td>70</td>\n",
       "    </tr>\n",
       "    <tr>\n",
       "      <th>2</th>\n",
       "      <td>1752</td>\n",
       "      <td>31604</td>\n",
       "      <td>17</td>\n",
       "      <td>0</td>\n",
       "      <td>72</td>\n",
       "    </tr>\n",
       "    <tr>\n",
       "      <th>3</th>\n",
       "      <td>1752</td>\n",
       "      <td>32885</td>\n",
       "      <td>26</td>\n",
       "      <td>0</td>\n",
       "      <td>69</td>\n",
       "    </tr>\n",
       "    <tr>\n",
       "      <th>4</th>\n",
       "      <td>1752</td>\n",
       "      <td>38053</td>\n",
       "      <td>19</td>\n",
       "      <td>0</td>\n",
       "      <td>79</td>\n",
       "    </tr>\n",
       "  </tbody>\n",
       "</table>\n",
       "</div>"
      ],
      "text/plain": [
       "   id_assessment  id_student  date_submitted  is_banked score\n",
       "0           1752       11391              18          0    78\n",
       "1           1752       28400              22          0    70\n",
       "2           1752       31604              17          0    72\n",
       "3           1752       32885              26          0    69\n",
       "4           1752       38053              19          0    79"
      ]
     },
     "execution_count": 12,
     "metadata": {},
     "output_type": "execute_result"
    }
   ],
   "source": [
    "lop_tables['STUDENT_ASSESSMENT'].head()"
   ]
  },
  {
   "cell_type": "code",
   "execution_count": 12,
   "metadata": {},
   "outputs": [
    {
     "data": {
      "text/plain": [
       "count     173912\n",
       "unique       102\n",
       "top          100\n",
       "freq       18813\n",
       "Name: score, dtype: object"
      ]
     },
     "execution_count": 12,
     "metadata": {},
     "output_type": "execute_result"
    }
   ],
   "source": [
    "lop_tables['STUDENT_ASSESSMENT']['score'].describe()"
   ]
  },
  {
   "cell_type": "code",
   "execution_count": 13,
   "metadata": {},
   "outputs": [
    {
     "name": "stdout",
     "output_type": "stream",
     "text": [
      "<class 'pandas.core.frame.DataFrame'>\n",
      "RangeIndex: 32593 entries, 0 to 32592\n",
      "Data columns (total 12 columns):\n",
      "code_module             32593 non-null object\n",
      "code_presentation       32593 non-null object\n",
      "id_student              32593 non-null int64\n",
      "gender                  32593 non-null object\n",
      "region                  32593 non-null object\n",
      "highest_education       32593 non-null object\n",
      "imd_band                32593 non-null object\n",
      "age_band                32593 non-null object\n",
      "num_of_prev_attempts    32593 non-null int64\n",
      "studied_credits         32593 non-null int64\n",
      "disability              32593 non-null object\n",
      "final_result            32593 non-null object\n",
      "dtypes: int64(3), object(9)\n",
      "memory usage: 3.0+ MB\n"
     ]
    }
   ],
   "source": [
    "lop_tables['STUDENT_INFO'].info()"
   ]
  },
  {
   "cell_type": "code",
   "execution_count": 14,
   "metadata": {},
   "outputs": [
    {
     "name": "stdout",
     "output_type": "stream",
     "text": [
      "<class 'pandas.core.frame.DataFrame'>\n",
      "RangeIndex: 1065858 entries, 0 to 1065857\n",
      "Data columns (total 7 columns):\n",
      "Column_0             1065858 non-null int64\n",
      "code_module          1065858 non-null object\n",
      "code_presentation    1065858 non-null object\n",
      "id_student           1065858 non-null int64\n",
      "id_site              1065858 non-null int64\n",
      "date                 1065858 non-null int64\n",
      "sum_click            1065858 non-null int64\n",
      "dtypes: int64(5), object(2)\n",
      "memory usage: 56.9+ MB\n"
     ]
    }
   ],
   "source": [
    "lop_tables['STUDENT_VLE2'].info()"
   ]
  },
  {
   "cell_type": "markdown",
   "metadata": {},
   "source": [
    "## Joining the datasets to merge related data\n",
    "\n",
    "We use the pandas merge function to join the data from the required dataframes to form one large supertable."
   ]
  },
  {
   "cell_type": "code",
   "execution_count": 26,
   "metadata": {},
   "outputs": [],
   "source": [
    "student_full_vle = pd.merge(lop_tables['STUDENT_INFO'], lop_tables['STUDENT_VLE2'], on='id_student', how='inner')"
   ]
  },
  {
   "cell_type": "code",
   "execution_count": 27,
   "metadata": {},
   "outputs": [],
   "source": [
    "student_full_vle_details = pd.merge(student_full_vle, lop_tables['VLE'], on = 'id_site', how = 'inner')"
   ]
  },
  {
   "cell_type": "code",
   "execution_count": 28,
   "metadata": {},
   "outputs": [
    {
     "data": {
      "text/html": [
       "<div>\n",
       "<style scoped>\n",
       "    .dataframe tbody tr th:only-of-type {\n",
       "        vertical-align: middle;\n",
       "    }\n",
       "\n",
       "    .dataframe tbody tr th {\n",
       "        vertical-align: top;\n",
       "    }\n",
       "\n",
       "    .dataframe thead th {\n",
       "        text-align: right;\n",
       "    }\n",
       "</style>\n",
       "<table border=\"1\" class=\"dataframe\">\n",
       "  <thead>\n",
       "    <tr style=\"text-align: right;\">\n",
       "      <th></th>\n",
       "      <th>code_module_x</th>\n",
       "      <th>code_presentation_x</th>\n",
       "      <th>id_student</th>\n",
       "      <th>gender</th>\n",
       "      <th>region</th>\n",
       "      <th>highest_education</th>\n",
       "      <th>imd_band</th>\n",
       "      <th>age_band</th>\n",
       "      <th>num_of_prev_attempts</th>\n",
       "      <th>studied_credits</th>\n",
       "      <th>disability</th>\n",
       "      <th>final_result</th>\n",
       "      <th>Column_0</th>\n",
       "      <th>code_module_y</th>\n",
       "      <th>code_presentation_y</th>\n",
       "      <th>id_site</th>\n",
       "      <th>date</th>\n",
       "      <th>sum_click</th>\n",
       "    </tr>\n",
       "  </thead>\n",
       "  <tbody>\n",
       "    <tr>\n",
       "      <th>1301169</th>\n",
       "      <td>GGG</td>\n",
       "      <td>2014J</td>\n",
       "      <td>2684003</td>\n",
       "      <td>F</td>\n",
       "      <td>Yorkshire Region</td>\n",
       "      <td>HE Qualification</td>\n",
       "      <td>50-60%</td>\n",
       "      <td>35-55</td>\n",
       "      <td>0</td>\n",
       "      <td>30</td>\n",
       "      <td>N</td>\n",
       "      <td>Distinction</td>\n",
       "      <td>1061032</td>\n",
       "      <td>GGG</td>\n",
       "      <td>2014J</td>\n",
       "      <td>897064</td>\n",
       "      <td>143</td>\n",
       "      <td>1</td>\n",
       "    </tr>\n",
       "    <tr>\n",
       "      <th>1301170</th>\n",
       "      <td>GGG</td>\n",
       "      <td>2014J</td>\n",
       "      <td>2684003</td>\n",
       "      <td>F</td>\n",
       "      <td>Yorkshire Region</td>\n",
       "      <td>HE Qualification</td>\n",
       "      <td>50-60%</td>\n",
       "      <td>35-55</td>\n",
       "      <td>0</td>\n",
       "      <td>30</td>\n",
       "      <td>N</td>\n",
       "      <td>Distinction</td>\n",
       "      <td>1061326</td>\n",
       "      <td>GGG</td>\n",
       "      <td>2014J</td>\n",
       "      <td>896943</td>\n",
       "      <td>149</td>\n",
       "      <td>6</td>\n",
       "    </tr>\n",
       "    <tr>\n",
       "      <th>1301171</th>\n",
       "      <td>GGG</td>\n",
       "      <td>2014J</td>\n",
       "      <td>2684003</td>\n",
       "      <td>F</td>\n",
       "      <td>Yorkshire Region</td>\n",
       "      <td>HE Qualification</td>\n",
       "      <td>50-60%</td>\n",
       "      <td>35-55</td>\n",
       "      <td>0</td>\n",
       "      <td>30</td>\n",
       "      <td>N</td>\n",
       "      <td>Distinction</td>\n",
       "      <td>1061729</td>\n",
       "      <td>GGG</td>\n",
       "      <td>2014J</td>\n",
       "      <td>896978</td>\n",
       "      <td>156</td>\n",
       "      <td>3</td>\n",
       "    </tr>\n",
       "    <tr>\n",
       "      <th>1301172</th>\n",
       "      <td>GGG</td>\n",
       "      <td>2014J</td>\n",
       "      <td>2684003</td>\n",
       "      <td>F</td>\n",
       "      <td>Yorkshire Region</td>\n",
       "      <td>HE Qualification</td>\n",
       "      <td>50-60%</td>\n",
       "      <td>35-55</td>\n",
       "      <td>0</td>\n",
       "      <td>30</td>\n",
       "      <td>N</td>\n",
       "      <td>Distinction</td>\n",
       "      <td>1062465</td>\n",
       "      <td>GGG</td>\n",
       "      <td>2014J</td>\n",
       "      <td>896984</td>\n",
       "      <td>171</td>\n",
       "      <td>4</td>\n",
       "    </tr>\n",
       "    <tr>\n",
       "      <th>1301173</th>\n",
       "      <td>GGG</td>\n",
       "      <td>2014J</td>\n",
       "      <td>2684003</td>\n",
       "      <td>F</td>\n",
       "      <td>Yorkshire Region</td>\n",
       "      <td>HE Qualification</td>\n",
       "      <td>50-60%</td>\n",
       "      <td>35-55</td>\n",
       "      <td>0</td>\n",
       "      <td>30</td>\n",
       "      <td>N</td>\n",
       "      <td>Distinction</td>\n",
       "      <td>1064869</td>\n",
       "      <td>GGG</td>\n",
       "      <td>2014J</td>\n",
       "      <td>896943</td>\n",
       "      <td>219</td>\n",
       "      <td>1</td>\n",
       "    </tr>\n",
       "  </tbody>\n",
       "</table>\n",
       "</div>"
      ],
      "text/plain": [
       "        code_module_x code_presentation_x  id_student gender  \\\n",
       "1301169           GGG               2014J     2684003      F   \n",
       "1301170           GGG               2014J     2684003      F   \n",
       "1301171           GGG               2014J     2684003      F   \n",
       "1301172           GGG               2014J     2684003      F   \n",
       "1301173           GGG               2014J     2684003      F   \n",
       "\n",
       "                   region highest_education imd_band age_band  \\\n",
       "1301169  Yorkshire Region  HE Qualification   50-60%    35-55   \n",
       "1301170  Yorkshire Region  HE Qualification   50-60%    35-55   \n",
       "1301171  Yorkshire Region  HE Qualification   50-60%    35-55   \n",
       "1301172  Yorkshire Region  HE Qualification   50-60%    35-55   \n",
       "1301173  Yorkshire Region  HE Qualification   50-60%    35-55   \n",
       "\n",
       "         num_of_prev_attempts  studied_credits disability final_result  \\\n",
       "1301169                     0               30          N  Distinction   \n",
       "1301170                     0               30          N  Distinction   \n",
       "1301171                     0               30          N  Distinction   \n",
       "1301172                     0               30          N  Distinction   \n",
       "1301173                     0               30          N  Distinction   \n",
       "\n",
       "         Column_0 code_module_y code_presentation_y  id_site  date  sum_click  \n",
       "1301169   1061032           GGG               2014J   897064   143          1  \n",
       "1301170   1061326           GGG               2014J   896943   149          6  \n",
       "1301171   1061729           GGG               2014J   896978   156          3  \n",
       "1301172   1062465           GGG               2014J   896984   171          4  \n",
       "1301173   1064869           GGG               2014J   896943   219          1  "
      ]
     },
     "execution_count": 28,
     "metadata": {},
     "output_type": "execute_result"
    }
   ],
   "source": [
    "student_full_vle.tail()"
   ]
  },
  {
   "cell_type": "code",
   "execution_count": 16,
   "metadata": {},
   "outputs": [
    {
     "name": "stdout",
     "output_type": "stream",
     "text": [
      "<class 'pandas.core.frame.DataFrame'>\n",
      "RangeIndex: 6364 entries, 0 to 6363\n",
      "Data columns (total 6 columns):\n",
      "id_site              6364 non-null int64\n",
      "code_module          6364 non-null object\n",
      "code_presentation    6364 non-null object\n",
      "activity_type        6364 non-null object\n",
      "week_from            6364 non-null object\n",
      "week_to              6364 non-null object\n",
      "dtypes: int64(1), object(5)\n",
      "memory usage: 298.4+ KB\n"
     ]
    }
   ],
   "source": [
    "lop_tables['VLE'].info()"
   ]
  },
  {
   "cell_type": "code",
   "execution_count": 29,
   "metadata": {},
   "outputs": [
    {
     "data": {
      "text/html": [
       "<div>\n",
       "<style scoped>\n",
       "    .dataframe tbody tr th:only-of-type {\n",
       "        vertical-align: middle;\n",
       "    }\n",
       "\n",
       "    .dataframe tbody tr th {\n",
       "        vertical-align: top;\n",
       "    }\n",
       "\n",
       "    .dataframe thead th {\n",
       "        text-align: right;\n",
       "    }\n",
       "</style>\n",
       "<table border=\"1\" class=\"dataframe\">\n",
       "  <thead>\n",
       "    <tr style=\"text-align: right;\">\n",
       "      <th></th>\n",
       "      <th>code_module_x</th>\n",
       "      <th>code_presentation_x</th>\n",
       "      <th>id_student</th>\n",
       "      <th>gender</th>\n",
       "      <th>region</th>\n",
       "      <th>highest_education</th>\n",
       "      <th>imd_band</th>\n",
       "      <th>age_band</th>\n",
       "      <th>num_of_prev_attempts</th>\n",
       "      <th>studied_credits</th>\n",
       "      <th>...</th>\n",
       "      <th>code_module_y</th>\n",
       "      <th>code_presentation_y</th>\n",
       "      <th>id_site</th>\n",
       "      <th>date</th>\n",
       "      <th>sum_click</th>\n",
       "      <th>code_module</th>\n",
       "      <th>code_presentation</th>\n",
       "      <th>activity_type</th>\n",
       "      <th>week_from</th>\n",
       "      <th>week_to</th>\n",
       "    </tr>\n",
       "  </thead>\n",
       "  <tbody>\n",
       "    <tr>\n",
       "      <th>0</th>\n",
       "      <td>AAA</td>\n",
       "      <td>2013J</td>\n",
       "      <td>11391</td>\n",
       "      <td>M</td>\n",
       "      <td>East Anglian Region</td>\n",
       "      <td>HE Qualification</td>\n",
       "      <td>90-100%</td>\n",
       "      <td>55&lt;=</td>\n",
       "      <td>0</td>\n",
       "      <td>240</td>\n",
       "      <td>...</td>\n",
       "      <td>AAA</td>\n",
       "      <td>2013J</td>\n",
       "      <td>546900</td>\n",
       "      <td>1</td>\n",
       "      <td>1</td>\n",
       "      <td>AAA</td>\n",
       "      <td>2013J</td>\n",
       "      <td>url</td>\n",
       "      <td></td>\n",
       "      <td></td>\n",
       "    </tr>\n",
       "    <tr>\n",
       "      <th>1</th>\n",
       "      <td>AAA</td>\n",
       "      <td>2013J</td>\n",
       "      <td>32885</td>\n",
       "      <td>F</td>\n",
       "      <td>West Midlands Region</td>\n",
       "      <td>Lower Than A Level</td>\n",
       "      <td>50-60%</td>\n",
       "      <td>0-35</td>\n",
       "      <td>0</td>\n",
       "      <td>60</td>\n",
       "      <td>...</td>\n",
       "      <td>AAA</td>\n",
       "      <td>2013J</td>\n",
       "      <td>546900</td>\n",
       "      <td>20</td>\n",
       "      <td>1</td>\n",
       "      <td>AAA</td>\n",
       "      <td>2013J</td>\n",
       "      <td>url</td>\n",
       "      <td></td>\n",
       "      <td></td>\n",
       "    </tr>\n",
       "    <tr>\n",
       "      <th>2</th>\n",
       "      <td>AAA</td>\n",
       "      <td>2013J</td>\n",
       "      <td>32885</td>\n",
       "      <td>F</td>\n",
       "      <td>West Midlands Region</td>\n",
       "      <td>Lower Than A Level</td>\n",
       "      <td>50-60%</td>\n",
       "      <td>0-35</td>\n",
       "      <td>0</td>\n",
       "      <td>60</td>\n",
       "      <td>...</td>\n",
       "      <td>AAA</td>\n",
       "      <td>2013J</td>\n",
       "      <td>546900</td>\n",
       "      <td>23</td>\n",
       "      <td>1</td>\n",
       "      <td>AAA</td>\n",
       "      <td>2013J</td>\n",
       "      <td>url</td>\n",
       "      <td></td>\n",
       "      <td></td>\n",
       "    </tr>\n",
       "    <tr>\n",
       "      <th>3</th>\n",
       "      <td>AAA</td>\n",
       "      <td>2013J</td>\n",
       "      <td>32885</td>\n",
       "      <td>F</td>\n",
       "      <td>West Midlands Region</td>\n",
       "      <td>Lower Than A Level</td>\n",
       "      <td>50-60%</td>\n",
       "      <td>0-35</td>\n",
       "      <td>0</td>\n",
       "      <td>60</td>\n",
       "      <td>...</td>\n",
       "      <td>AAA</td>\n",
       "      <td>2013J</td>\n",
       "      <td>546900</td>\n",
       "      <td>124</td>\n",
       "      <td>1</td>\n",
       "      <td>AAA</td>\n",
       "      <td>2013J</td>\n",
       "      <td>url</td>\n",
       "      <td></td>\n",
       "      <td></td>\n",
       "    </tr>\n",
       "    <tr>\n",
       "      <th>4</th>\n",
       "      <td>AAA</td>\n",
       "      <td>2013J</td>\n",
       "      <td>38053</td>\n",
       "      <td>M</td>\n",
       "      <td>Wales</td>\n",
       "      <td>A Level or Equivalent</td>\n",
       "      <td>80-90%</td>\n",
       "      <td>35-55</td>\n",
       "      <td>0</td>\n",
       "      <td>60</td>\n",
       "      <td>...</td>\n",
       "      <td>AAA</td>\n",
       "      <td>2013J</td>\n",
       "      <td>546900</td>\n",
       "      <td>106</td>\n",
       "      <td>2</td>\n",
       "      <td>AAA</td>\n",
       "      <td>2013J</td>\n",
       "      <td>url</td>\n",
       "      <td></td>\n",
       "      <td></td>\n",
       "    </tr>\n",
       "  </tbody>\n",
       "</table>\n",
       "<p>5 rows × 23 columns</p>\n",
       "</div>"
      ],
      "text/plain": [
       "  code_module_x code_presentation_x  id_student gender                region  \\\n",
       "0           AAA               2013J       11391      M   East Anglian Region   \n",
       "1           AAA               2013J       32885      F  West Midlands Region   \n",
       "2           AAA               2013J       32885      F  West Midlands Region   \n",
       "3           AAA               2013J       32885      F  West Midlands Region   \n",
       "4           AAA               2013J       38053      M                 Wales   \n",
       "\n",
       "       highest_education imd_band age_band  num_of_prev_attempts  \\\n",
       "0       HE Qualification  90-100%     55<=                     0   \n",
       "1     Lower Than A Level   50-60%     0-35                     0   \n",
       "2     Lower Than A Level   50-60%     0-35                     0   \n",
       "3     Lower Than A Level   50-60%     0-35                     0   \n",
       "4  A Level or Equivalent   80-90%    35-55                     0   \n",
       "\n",
       "   studied_credits  ... code_module_y code_presentation_y  id_site date  \\\n",
       "0              240  ...           AAA               2013J   546900    1   \n",
       "1               60  ...           AAA               2013J   546900   20   \n",
       "2               60  ...           AAA               2013J   546900   23   \n",
       "3               60  ...           AAA               2013J   546900  124   \n",
       "4               60  ...           AAA               2013J   546900  106   \n",
       "\n",
       "  sum_click  code_module  code_presentation  activity_type week_from week_to  \n",
       "0         1          AAA              2013J            url                    \n",
       "1         1          AAA              2013J            url                    \n",
       "2         1          AAA              2013J            url                    \n",
       "3         1          AAA              2013J            url                    \n",
       "4         2          AAA              2013J            url                    \n",
       "\n",
       "[5 rows x 23 columns]"
      ]
     },
     "execution_count": 29,
     "metadata": {},
     "output_type": "execute_result"
    }
   ],
   "source": [
    "student_full_vle_details.head()"
   ]
  },
  {
   "cell_type": "markdown",
   "metadata": {},
   "source": [
    "Group by id_student and code_module_x + code_presentation_x"
   ]
  },
  {
   "cell_type": "code",
   "execution_count": 30,
   "metadata": {},
   "outputs": [
    {
     "name": "stdout",
     "output_type": "stream",
     "text": [
      "<class 'pandas.core.frame.DataFrame'>\n",
      "Int64Index: 1301174 entries, 0 to 1301173\n",
      "Data columns (total 23 columns):\n",
      "code_module_x           1301174 non-null object\n",
      "code_presentation_x     1301174 non-null object\n",
      "id_student              1301174 non-null int64\n",
      "gender                  1301174 non-null object\n",
      "region                  1301174 non-null object\n",
      "highest_education       1301174 non-null object\n",
      "imd_band                1301174 non-null object\n",
      "age_band                1301174 non-null object\n",
      "num_of_prev_attempts    1301174 non-null int64\n",
      "studied_credits         1301174 non-null int64\n",
      "disability              1301174 non-null object\n",
      "final_result            1301174 non-null object\n",
      "Column_0                1301174 non-null int64\n",
      "code_module_y           1301174 non-null object\n",
      "code_presentation_y     1301174 non-null object\n",
      "id_site                 1301174 non-null int64\n",
      "date                    1301174 non-null int64\n",
      "sum_click               1301174 non-null int64\n",
      "code_module             1301174 non-null object\n",
      "code_presentation       1301174 non-null object\n",
      "activity_type           1301174 non-null object\n",
      "week_from               1301174 non-null object\n",
      "week_to                 1301174 non-null object\n",
      "dtypes: int64(7), object(16)\n",
      "memory usage: 238.3+ MB\n"
     ]
    }
   ],
   "source": [
    "student_full_vle_details.info()"
   ]
  },
  {
   "cell_type": "code",
   "execution_count": 19,
   "metadata": {},
   "outputs": [],
   "source": [
    "student_full_vle_details['final_result'] = student_full_vle_details.final_result.astype(str)"
   ]
  },
  {
   "cell_type": "code",
   "execution_count": 20,
   "metadata": {},
   "outputs": [
    {
     "name": "stdout",
     "output_type": "stream",
     "text": [
      "<class 'pandas.core.frame.DataFrame'>\n",
      "Int64Index: 1301174 entries, 0 to 1301173\n",
      "Data columns (total 23 columns):\n",
      "code_module_x           1301174 non-null object\n",
      "code_presentation_x     1301174 non-null object\n",
      "id_student              1301174 non-null int64\n",
      "gender                  1301174 non-null object\n",
      "region                  1301174 non-null object\n",
      "highest_education       1301174 non-null object\n",
      "imd_band                1301174 non-null object\n",
      "age_band                1301174 non-null object\n",
      "num_of_prev_attempts    1301174 non-null int64\n",
      "studied_credits         1301174 non-null int64\n",
      "disability              1301174 non-null object\n",
      "final_result            1301174 non-null object\n",
      "Column_0                1301174 non-null int64\n",
      "code_module_y           1301174 non-null object\n",
      "code_presentation_y     1301174 non-null object\n",
      "id_site                 1301174 non-null int64\n",
      "date                    1301174 non-null int64\n",
      "sum_click               1301174 non-null int64\n",
      "code_module             1301174 non-null object\n",
      "code_presentation       1301174 non-null object\n",
      "activity_type           1301174 non-null object\n",
      "week_from               1301174 non-null object\n",
      "week_to                 1301174 non-null object\n",
      "dtypes: int64(7), object(16)\n",
      "memory usage: 238.3+ MB\n"
     ]
    }
   ],
   "source": [
    "student_full_vle_details.info()"
   ]
  },
  {
   "cell_type": "code",
   "execution_count": 33,
   "metadata": {},
   "outputs": [
    {
     "data": {
      "text/plain": [
       "<seaborn.axisgrid.FacetGrid at 0x7fa7647f5358>"
      ]
     },
     "execution_count": 33,
     "metadata": {},
     "output_type": "execute_result"
    },
    {
     "data": {
      "image/png": "[encoded data removed]",
      "text/plain": [
       "<Figure size 360x360 with 1 Axes>"
      ]
     },
     "metadata": {
      "needs_background": "light"
     },
     "output_type": "display_data"
    }
   ],
   "source": [
    "sns.catplot(x = 'final_result', y = 'sum_click', data = student_full_vle_details, kind='bar')"
   ]
  },
  {
   "cell_type": "code",
   "execution_count": 36,
   "metadata": {},
   "outputs": [
    {
     "data": {
      "text/plain": [
       "<seaborn.axisgrid.FacetGrid at 0x7fa76465f208>"
      ]
     },
     "execution_count": 36,
     "metadata": {},
     "output_type": "execute_result"
    },
    {
     "data": {
      "image/png": "[encoded data removed]",
      "text/plain": [
       "<Figure size 360x360 with 1 Axes>"
      ]
     },
     "metadata": {
      "needs_background": "light"
     },
     "output_type": "display_data"
    }
   ],
   "source": [
    "plt = sns.catplot(x = 'activity_type', kind = 'count', data = student_full_vle_details)\n",
    "plt.set_xticklabels(rotation = 45)"
   ]
  },
  {
   "cell_type": "markdown",
   "metadata": {},
   "source": [
    "An inspection of the midsection of the dataset"
   ]
  },
  {
   "cell_type": "code",
   "execution_count": 37,
   "metadata": {},
   "outputs": [
    {
     "data": {
      "text/html": [
       "<div>\n",
       "<style scoped>\n",
       "    .dataframe tbody tr th:only-of-type {\n",
       "        vertical-align: middle;\n",
       "    }\n",
       "\n",
       "    .dataframe tbody tr th {\n",
       "        vertical-align: top;\n",
       "    }\n",
       "\n",
       "    .dataframe thead th {\n",
       "        text-align: right;\n",
       "    }\n",
       "</style>\n",
       "<table border=\"1\" class=\"dataframe\">\n",
       "  <thead>\n",
       "    <tr style=\"text-align: right;\">\n",
       "      <th></th>\n",
       "      <th>code_module_x</th>\n",
       "      <th>code_presentation_x</th>\n",
       "      <th>id_student</th>\n",
       "      <th>gender</th>\n",
       "      <th>region</th>\n",
       "      <th>highest_education</th>\n",
       "      <th>imd_band</th>\n",
       "      <th>age_band</th>\n",
       "      <th>num_of_prev_attempts</th>\n",
       "      <th>studied_credits</th>\n",
       "      <th>...</th>\n",
       "      <th>code_module_y</th>\n",
       "      <th>code_presentation_y</th>\n",
       "      <th>id_site</th>\n",
       "      <th>date</th>\n",
       "      <th>sum_click</th>\n",
       "      <th>code_module</th>\n",
       "      <th>code_presentation</th>\n",
       "      <th>activity_type</th>\n",
       "      <th>week_from</th>\n",
       "      <th>week_to</th>\n",
       "    </tr>\n",
       "  </thead>\n",
       "  <tbody>\n",
       "    <tr>\n",
       "      <th>500000</th>\n",
       "      <td>CCC</td>\n",
       "      <td>2014B</td>\n",
       "      <td>614265</td>\n",
       "      <td>M</td>\n",
       "      <td>South Region</td>\n",
       "      <td>Lower Than A Level</td>\n",
       "      <td>50-60%</td>\n",
       "      <td>35-55</td>\n",
       "      <td>0</td>\n",
       "      <td>120</td>\n",
       "      <td>...</td>\n",
       "      <td>CCC</td>\n",
       "      <td>2014J</td>\n",
       "      <td>909013</td>\n",
       "      <td>96</td>\n",
       "      <td>1</td>\n",
       "      <td>CCC</td>\n",
       "      <td>2014J</td>\n",
       "      <td>homepage</td>\n",
       "      <td></td>\n",
       "      <td></td>\n",
       "    </tr>\n",
       "    <tr>\n",
       "      <th>500001</th>\n",
       "      <td>CCC</td>\n",
       "      <td>2014B</td>\n",
       "      <td>614265</td>\n",
       "      <td>M</td>\n",
       "      <td>South Region</td>\n",
       "      <td>Lower Than A Level</td>\n",
       "      <td>50-60%</td>\n",
       "      <td>35-55</td>\n",
       "      <td>0</td>\n",
       "      <td>120</td>\n",
       "      <td>...</td>\n",
       "      <td>CCC</td>\n",
       "      <td>2014J</td>\n",
       "      <td>909013</td>\n",
       "      <td>234</td>\n",
       "      <td>2</td>\n",
       "      <td>CCC</td>\n",
       "      <td>2014J</td>\n",
       "      <td>homepage</td>\n",
       "      <td></td>\n",
       "      <td></td>\n",
       "    </tr>\n",
       "    <tr>\n",
       "      <th>500002</th>\n",
       "      <td>CCC</td>\n",
       "      <td>2014J</td>\n",
       "      <td>614265</td>\n",
       "      <td>M</td>\n",
       "      <td>South Region</td>\n",
       "      <td>Lower Than A Level</td>\n",
       "      <td>50-60%</td>\n",
       "      <td>35-55</td>\n",
       "      <td>1</td>\n",
       "      <td>60</td>\n",
       "      <td>...</td>\n",
       "      <td>CCC</td>\n",
       "      <td>2014J</td>\n",
       "      <td>909013</td>\n",
       "      <td>1</td>\n",
       "      <td>9</td>\n",
       "      <td>CCC</td>\n",
       "      <td>2014J</td>\n",
       "      <td>homepage</td>\n",
       "      <td></td>\n",
       "      <td></td>\n",
       "    </tr>\n",
       "    <tr>\n",
       "      <th>500003</th>\n",
       "      <td>CCC</td>\n",
       "      <td>2014J</td>\n",
       "      <td>614265</td>\n",
       "      <td>M</td>\n",
       "      <td>South Region</td>\n",
       "      <td>Lower Than A Level</td>\n",
       "      <td>50-60%</td>\n",
       "      <td>35-55</td>\n",
       "      <td>1</td>\n",
       "      <td>60</td>\n",
       "      <td>...</td>\n",
       "      <td>CCC</td>\n",
       "      <td>2014J</td>\n",
       "      <td>909013</td>\n",
       "      <td>9</td>\n",
       "      <td>2</td>\n",
       "      <td>CCC</td>\n",
       "      <td>2014J</td>\n",
       "      <td>homepage</td>\n",
       "      <td></td>\n",
       "      <td></td>\n",
       "    </tr>\n",
       "    <tr>\n",
       "      <th>500004</th>\n",
       "      <td>CCC</td>\n",
       "      <td>2014J</td>\n",
       "      <td>614265</td>\n",
       "      <td>M</td>\n",
       "      <td>South Region</td>\n",
       "      <td>Lower Than A Level</td>\n",
       "      <td>50-60%</td>\n",
       "      <td>35-55</td>\n",
       "      <td>1</td>\n",
       "      <td>60</td>\n",
       "      <td>...</td>\n",
       "      <td>CCC</td>\n",
       "      <td>2014J</td>\n",
       "      <td>909013</td>\n",
       "      <td>72</td>\n",
       "      <td>1</td>\n",
       "      <td>CCC</td>\n",
       "      <td>2014J</td>\n",
       "      <td>homepage</td>\n",
       "      <td></td>\n",
       "      <td></td>\n",
       "    </tr>\n",
       "  </tbody>\n",
       "</table>\n",
       "<p>5 rows × 23 columns</p>\n",
       "</div>"
      ],
      "text/plain": [
       "       code_module_x code_presentation_x  id_student gender        region  \\\n",
       "500000           CCC               2014B      614265      M  South Region   \n",
       "500001           CCC               2014B      614265      M  South Region   \n",
       "500002           CCC               2014J      614265      M  South Region   \n",
       "500003           CCC               2014J      614265      M  South Region   \n",
       "500004           CCC               2014J      614265      M  South Region   \n",
       "\n",
       "         highest_education imd_band age_band  num_of_prev_attempts  \\\n",
       "500000  Lower Than A Level   50-60%    35-55                     0   \n",
       "500001  Lower Than A Level   50-60%    35-55                     0   \n",
       "500002  Lower Than A Level   50-60%    35-55                     1   \n",
       "500003  Lower Than A Level   50-60%    35-55                     1   \n",
       "500004  Lower Than A Level   50-60%    35-55                     1   \n",
       "\n",
       "        studied_credits  ... code_module_y code_presentation_y  id_site date  \\\n",
       "500000              120  ...           CCC               2014J   909013   96   \n",
       "500001              120  ...           CCC               2014J   909013  234   \n",
       "500002               60  ...           CCC               2014J   909013    1   \n",
       "500003               60  ...           CCC               2014J   909013    9   \n",
       "500004               60  ...           CCC               2014J   909013   72   \n",
       "\n",
       "       sum_click  code_module  code_presentation  activity_type week_from  \\\n",
       "500000         1          CCC              2014J       homepage             \n",
       "500001         2          CCC              2014J       homepage             \n",
       "500002         9          CCC              2014J       homepage             \n",
       "500003         2          CCC              2014J       homepage             \n",
       "500004         1          CCC              2014J       homepage             \n",
       "\n",
       "       week_to  \n",
       "500000          \n",
       "500001          \n",
       "500002          \n",
       "500003          \n",
       "500004          \n",
       "\n",
       "[5 rows x 23 columns]"
      ]
     },
     "execution_count": 37,
     "metadata": {},
     "output_type": "execute_result"
    }
   ],
   "source": [
    "# sns.distplot(student_full_vle_details.activity_type)\n",
    "student_full_vle_details[500000:500005]"
   ]
  },
  {
   "cell_type": "markdown",
   "metadata": {},
   "source": [
    "Checking for null data in each column"
   ]
  },
  {
   "cell_type": "code",
   "execution_count": 38,
   "metadata": {},
   "outputs": [
    {
     "data": {
      "text/plain": [
       "code_module_x           0\n",
       "code_presentation_x     0\n",
       "id_student              0\n",
       "gender                  0\n",
       "region                  0\n",
       "highest_education       0\n",
       "imd_band                0\n",
       "age_band                0\n",
       "num_of_prev_attempts    0\n",
       "studied_credits         0\n",
       "disability              0\n",
       "final_result            0\n",
       "Column_0                0\n",
       "code_module_y           0\n",
       "code_presentation_y     0\n",
       "id_site                 0\n",
       "date                    0\n",
       "sum_click               0\n",
       "code_module             0\n",
       "code_presentation       0\n",
       "activity_type           0\n",
       "week_from               0\n",
       "week_to                 0\n",
       "dtype: int64"
      ]
     },
     "execution_count": 38,
     "metadata": {},
     "output_type": "execute_result"
    }
   ],
   "source": [
    "student_full_vle_details.apply(lambda x: sum(x.isnull()), axis=0)"
   ]
  },
  {
   "cell_type": "markdown",
   "metadata": {},
   "source": [
    "Looks good. Time to encode the categorical data columns:"
   ]
  },
  {
   "cell_type": "code",
   "execution_count": 39,
   "metadata": {},
   "outputs": [],
   "source": [
    "from sklearn.preprocessing import LabelEncoder\n",
    "\n"
   ]
  },
  {
   "cell_type": "code",
   "execution_count": 40,
   "metadata": {},
   "outputs": [
    {
     "data": {
      "text/plain": [
       "code_module_x           object\n",
       "code_presentation_x     object\n",
       "id_student               int64\n",
       "gender                   int64\n",
       "region                   int64\n",
       "highest_education        int64\n",
       "imd_band                 int64\n",
       "age_band                 int64\n",
       "num_of_prev_attempts     int64\n",
       "studied_credits          int64\n",
       "disability               int64\n",
       "final_result            object\n",
       "Column_0                 int64\n",
       "code_module_y           object\n",
       "code_presentation_y     object\n",
       "id_site                  int64\n",
       "date                     int64\n",
       "sum_click                int64\n",
       "code_module              int64\n",
       "code_presentation        int64\n",
       "activity_type            int64\n",
       "week_from               object\n",
       "week_to                 object\n",
       "dtype: object"
      ]
     },
     "execution_count": 40,
     "metadata": {},
     "output_type": "execute_result"
    }
   ],
   "source": [
    "cat_feature_names = ['gender', 'region', 'activity_type', 'disability', 'age_band', 'imd_band', 'highest_education', 'code_module', 'code_presentation']\n",
    "le = LabelEncoder()\n",
    "for f in cat_feature_names:\n",
    "    student_full_vle_details[f] = le.fit_transform(student_full_vle_details[f])\n",
    "student_full_vle_details.dtypes"
   ]
  },
  {
   "cell_type": "code",
   "execution_count": 41,
   "metadata": {},
   "outputs": [],
   "source": [
    "import numpy as np"
   ]
  },
  {
   "cell_type": "code",
   "execution_count": 42,
   "metadata": {},
   "outputs": [],
   "source": [
    "from sklearn.linear_model import LogisticRegression\n",
    "from sklearn.model_selection import KFold\n",
    "from sklearn.ensemble import RandomForestClassifier\n",
    "from sklearn.tree import DecisionTreeClassifier, export_graphviz\n",
    "from sklearn import metrics\n",
    "\n",
    "def classification_model(model, data, predictors, outcome):\n",
    "    model.fit(data[predictors], data[outcome])\n",
    "    predictions = model.predict(data[predictors])\n",
    "    \n",
    "    accuracy = metrics.accuracy_score(predictions, data[outcome])\n",
    "    print(\"Accuracy : %s\" % \"{0:.3%}\".format(accuracy))\n",
    "    # kf = KFold(data.shape[0],n_splits = 5)    \n",
    "    kf = KFold(n_splits = 5)\n",
    "    error = []\n",
    "    for train, test in kf.split(data):\n",
    "        train_predictors = (data[predictors].iloc[train, :])\n",
    "        train_target = data[outcome].iloc[train]\n",
    "        model.fit(train_predictors, train_target)\n",
    "        error.append(model.score(data[predictors].iloc[test, :], data[outcome].iloc[test]))\n",
    "        \n",
    "    print(\"Cross validation score : %s\" % \"{0:.3%}\".format(np.mean(error)))\n",
    "    model.fit(data[predictors], data[outcome])"
   ]
  },
  {
   "cell_type": "markdown",
   "metadata": {},
   "source": []
  },
  {
   "cell_type": "code",
   "execution_count": 43,
   "metadata": {},
   "outputs": [
    {
     "name": "stderr",
     "output_type": "stream",
     "text": [
      "/opt/conda/envs/Python36/lib/python3.6/site-packages/sklearn/linear_model/logistic.py:433: FutureWarning: Default solver will be changed to 'lbfgs' in 0.22. Specify a solver to silence this warning.\n",
      "  FutureWarning)\n",
      "/opt/conda/envs/Python36/lib/python3.6/site-packages/sklearn/linear_model/logistic.py:460: FutureWarning: Default multi_class will be changed to 'auto' in 0.22. Specify the multi_class option to silence this warning.\n",
      "  \"this warning.\", FutureWarning)\n"
     ]
    },
    {
     "name": "stdout",
     "output_type": "stream",
     "text": [
      "Accuracy : 55.111%\n"
     ]
    },
    {
     "name": "stderr",
     "output_type": "stream",
     "text": [
      "/opt/conda/envs/Python36/lib/python3.6/site-packages/sklearn/linear_model/logistic.py:433: FutureWarning: Default solver will be changed to 'lbfgs' in 0.22. Specify a solver to silence this warning.\n",
      "  FutureWarning)\n",
      "/opt/conda/envs/Python36/lib/python3.6/site-packages/sklearn/linear_model/logistic.py:460: FutureWarning: Default multi_class will be changed to 'auto' in 0.22. Specify the multi_class option to silence this warning.\n",
      "  \"this warning.\", FutureWarning)\n",
      "/opt/conda/envs/Python36/lib/python3.6/site-packages/sklearn/linear_model/logistic.py:433: FutureWarning: Default solver will be changed to 'lbfgs' in 0.22. Specify a solver to silence this warning.\n",
      "  FutureWarning)\n",
      "/opt/conda/envs/Python36/lib/python3.6/site-packages/sklearn/linear_model/logistic.py:460: FutureWarning: Default multi_class will be changed to 'auto' in 0.22. Specify the multi_class option to silence this warning.\n",
      "  \"this warning.\", FutureWarning)\n",
      "/opt/conda/envs/Python36/lib/python3.6/site-packages/sklearn/linear_model/logistic.py:433: FutureWarning: Default solver will be changed to 'lbfgs' in 0.22. Specify a solver to silence this warning.\n",
      "  FutureWarning)\n",
      "/opt/conda/envs/Python36/lib/python3.6/site-packages/sklearn/linear_model/logistic.py:460: FutureWarning: Default multi_class will be changed to 'auto' in 0.22. Specify the multi_class option to silence this warning.\n",
      "  \"this warning.\", FutureWarning)\n",
      "/opt/conda/envs/Python36/lib/python3.6/site-packages/sklearn/linear_model/logistic.py:433: FutureWarning: Default solver will be changed to 'lbfgs' in 0.22. Specify a solver to silence this warning.\n",
      "  FutureWarning)\n",
      "/opt/conda/envs/Python36/lib/python3.6/site-packages/sklearn/linear_model/logistic.py:460: FutureWarning: Default multi_class will be changed to 'auto' in 0.22. Specify the multi_class option to silence this warning.\n",
      "  \"this warning.\", FutureWarning)\n",
      "/opt/conda/envs/Python36/lib/python3.6/site-packages/sklearn/linear_model/logistic.py:433: FutureWarning: Default solver will be changed to 'lbfgs' in 0.22. Specify a solver to silence this warning.\n",
      "  FutureWarning)\n",
      "/opt/conda/envs/Python36/lib/python3.6/site-packages/sklearn/linear_model/logistic.py:460: FutureWarning: Default multi_class will be changed to 'auto' in 0.22. Specify the multi_class option to silence this warning.\n",
      "  \"this warning.\", FutureWarning)\n"
     ]
    },
    {
     "name": "stdout",
     "output_type": "stream",
     "text": [
      "Cross validation score : 55.111%\n"
     ]
    },
    {
     "name": "stderr",
     "output_type": "stream",
     "text": [
      "/opt/conda/envs/Python36/lib/python3.6/site-packages/sklearn/linear_model/logistic.py:433: FutureWarning: Default solver will be changed to 'lbfgs' in 0.22. Specify a solver to silence this warning.\n",
      "  FutureWarning)\n",
      "/opt/conda/envs/Python36/lib/python3.6/site-packages/sklearn/linear_model/logistic.py:460: FutureWarning: Default multi_class will be changed to 'auto' in 0.22. Specify the multi_class option to silence this warning.\n",
      "  \"this warning.\", FutureWarning)\n"
     ]
    }
   ],
   "source": [
    "outcome_var = 'final_result'\n",
    "model = LogisticRegression()\n",
    "predictor_var = ['id_site','sum_click','activity_type','studied_credits','highest_education']\n",
    "classification_model(model, student_full_vle_details, predictor_var, outcome_var)"
   ]
  },
  {
   "cell_type": "code",
   "execution_count": 54,
   "metadata": {},
   "outputs": [
    {
     "name": "stdout",
     "output_type": "stream",
     "text": [
      "Accuracy : 62.913%\n",
      "Cross validation score : 47.154%\n"
     ]
    }
   ],
   "source": [
    "model = DecisionTreeClassifier()\n",
    "classification_model(model, student_full_vle_details, predictor_var, outcome_var)"
   ]
  },
  {
   "cell_type": "code",
   "execution_count": 55,
   "metadata": {},
   "outputs": [
    {
     "name": "stdout",
     "output_type": "stream",
     "text": [
      "Accuracy : 74.874%\n",
      "Cross validation score : 55.259%\n"
     ]
    }
   ],
   "source": [
    "model = RandomForestClassifier(n_estimators=100)\n",
    "predictor_var = ['imd_band', 'age_band', 'num_of_prev_attempts','studied_credits','code_module','code_presentation','activity_type','sum_click','id_site']\n",
    "classification_model(model, student_full_vle_details, predictor_var, outcome_var)\n"
   ]
  },
  {
   "cell_type": "code",
   "execution_count": 56,
   "metadata": {},
   "outputs": [
    {
     "name": "stdout",
     "output_type": "stream",
     "text": [
      "Accuracy : 55.157%\n",
      "Cross validation score : 55.133%\n"
     ]
    }
   ],
   "source": [
    "model = RandomForestClassifier(n_estimators=30, max_depth=5)\n",
    "classification_model(model, student_full_vle_details, predictor_var, outcome_var)"
   ]
  },
  {
   "cell_type": "code",
   "execution_count": null,
   "metadata": {},
   "outputs": [],
   "source": []
  }
 ],
 "metadata": {
  "kernelspec": {
   "display_name": "Python 3.6",
   "language": "python",
   "name": "python3"
  },
  "language_info": {
   "codemirror_mode": {
    "name": "ipython",
    "version": 3
   },
   "file_extension": ".py",
   "mimetype": "text/x-python",
   "name": "python",
   "nbconvert_exporter": "python",
   "pygments_lexer": "ipython3",
   "version": "3.6.8"
  }
 },
 "nbformat": 4,
 "nbformat_minor": 1
}
